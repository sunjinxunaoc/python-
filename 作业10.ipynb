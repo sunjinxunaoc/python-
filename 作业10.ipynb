{
 "cells": [
  {
   "cell_type": "code",
   "execution_count": 14,
   "metadata": {},
   "outputs": [
    {
     "name": "stdout",
     "output_type": "stream",
     "text": [
      "other problems\n",
      "0.5\n",
      "division by zero!\n"
     ]
    }
   ],
   "source": [
    "class DTError(Exception):\n",
    "    pass\n",
    "def devide(x,y):\n",
    "    try: \n",
    "        ans=x/y\n",
    "        if(type(x)!=type(y)): #类型不一致 转至DTError \n",
    "            raise DTError\n",
    "\n",
    "    except ZeroDivisionError: #0作为除数\n",
    "        return 'division by zero!'\n",
    "\n",
    "    except DTError:   \n",
    "        print ('The two nums have differet type') #将x，y转化为正数 再进行运算 \n",
    "        x=int(x)\n",
    "        y=int(y)\n",
    "        devide(x,y)\n",
    "        return ans\n",
    "\n",
    "    except:\n",
    "        return 'other problems'#其他问题报错\n",
    "\n",
    "    else:\n",
    "        return ans\n",
    "print(devide(\"1\",0))\n",
    "print(devide(1,2))\n",
    "print(devide(1,0))\n"
   ]
  },
  {
   "cell_type": "code",
   "execution_count": 12,
   "metadata": {},
   "outputs": [
    {
     "data": {
      "text/plain": [
       "True"
      ]
     },
     "execution_count": 12,
     "metadata": {},
     "output_type": "execute_result"
    }
   ],
   "source": [
    "def test(password, earning, age):\n",
    "    assert password[0] not in [\"0\",\"1\",\"2\",\"3\",\"4\",\"5\",\"6\",\"7\",\"8\",\"9\"]\n",
    "    assert 0<=int(earning)<=20000\n",
    "    assert 17<=int(age)<=80\n",
    "    return True\n",
    "test(\"a44\",23,34)       "
   ]
  },
  {
   "cell_type": "code",
   "execution_count": null,
   "metadata": {},
   "outputs": [],
   "source": []
  },
  {
   "cell_type": "code",
   "execution_count": null,
   "metadata": {},
   "outputs": [],
   "source": []
  }
 ],
 "metadata": {
  "kernelspec": {
   "display_name": "Python 3",
   "language": "python",
   "name": "python3"
  },
  "language_info": {
   "codemirror_mode": {
    "name": "ipython",
    "version": 3
   },
   "file_extension": ".py",
   "mimetype": "text/x-python",
   "name": "python",
   "nbconvert_exporter": "python",
   "pygments_lexer": "ipython3",
   "version": "3.6.4"
  }
 },
 "nbformat": 4,
 "nbformat_minor": 2
}
