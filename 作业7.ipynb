{
 "cells": [
  {
   "cell_type": "code",
   "execution_count": 1,
   "metadata": {},
   "outputs": [
    {
     "name": "stdout",
     "output_type": "stream",
     "text": [
      "Hello, World!\n",
      "[0, 0, 0, 1, 1, 0, 0, 1, 0, 0, 0, 3, 0, 0, 2, 0, 0, 1, 0, 0, 0, 0, 1, 0, 0, 0]\n"
     ]
    }
   ],
   "source": [
    "def countchar(str):\n",
    "    #str=input()\n",
    "    str=str.lower()\n",
    "    list=[str.count(chr(i)) for i in range(ord('a'),ord('z')+1)]\n",
    "    return list\n",
    "if __name__ == \"__main__\":\n",
    "    \n",
    "    str = input()\n",
    "    print(countchar(str))"
   ]
  },
  {
   "cell_type": "code",
   "execution_count": 10,
   "metadata": {},
   "outputs": [
    {
     "name": "stdout",
     "output_type": "stream",
     "text": [
      "6\n",
      "21\n"
     ]
    }
   ],
   "source": [
    "def howMany(Dict):\n",
    "    k=Dict.keys()\n",
    "    t=0\n",
    "    for i in k:\n",
    "        t+=len(Dict[i])\n",
    "    return t\n",
    "animals = { 'a': ['aardvark'], 'b': ['baboon'], 'c': ['coati']} #值为列表\n",
    "\n",
    "animals['d'] = ['donkey']\n",
    "animals['d'].append('dog')\n",
    "animals['d'].append('dingo')\n",
    "print(howMany(animals))\n",
    "print(howMany({'a': [8, 11, 4, 18], 'H': [19, 19, 16], 'L': [12], \n",
    "               'O': [12, 2, 14, 2], 'p': [7, 15, 7, 15, 10], 's': [], 't': [], 'y': [11, 19, 12, 0]}) )"
   ]
  },
  {
   "cell_type": "code",
   "execution_count": 45,
   "metadata": {},
   "outputs": [
    {
     "name": "stdout",
     "output_type": "stream",
     "text": [
      "d\n",
      "b\n"
     ]
    }
   ],
   "source": [
    "def biggest(Dict):\n",
    "    k=Dict.keys()\n",
    "    max=-1\n",
    "    max_key=\"\"\n",
    "    for i in k:\n",
    "        if len(Dict[i])>max:\n",
    "            max=len(Dict[i])\n",
    "            max_key=i\n",
    "    return max_key\n",
    "print(biggest(animals))\n",
    "\n",
    "print(biggest({'a': [3, 3, 18], 'c': [3, 15, 12, 10, 0], \n",
    "         'b': [10, 19, 14, 5, 16, 20, 11, 6], 'd': [5, 16, 8, 16, 6, 1]}))"
   ]
  },
  {
   "cell_type": "code",
   "execution_count": null,
   "metadata": {},
   "outputs": [],
   "source": []
  }
 ],
 "metadata": {
  "kernelspec": {
   "display_name": "Python 3",
   "language": "python",
   "name": "python3"
  },
  "language_info": {
   "codemirror_mode": {
    "name": "ipython",
    "version": 3
   },
   "file_extension": ".py",
   "mimetype": "text/x-python",
   "name": "python",
   "nbconvert_exporter": "python",
   "pygments_lexer": "ipython3",
   "version": "3.6.4"
  }
 },
 "nbformat": 4,
 "nbformat_minor": 2
}
