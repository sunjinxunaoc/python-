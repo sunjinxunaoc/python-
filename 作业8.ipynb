{
 "cells": [
  {
   "cell_type": "code",
   "execution_count": 5,
   "metadata": {},
   "outputs": [],
   "source": [
    "f=open(\"FarewellCambridge.txt\",\"w\")\n",
    "f.write('''Very quietly I take my leave\n",
    "As quietly as I came here;\n",
    "Quietly I wave good-bye\n",
    "To the rosy clouds in the western sky.\n",
    "The golden willows by the riverside\n",
    "Are young brides in the setting sun;\n",
    "Their reflections on the shimmering waves\n",
    "Always linger in the depth of my heart.\n",
    "The floating heart growing in the sludge\n",
    "Sways leisurely under the water;\n",
    "In the gentle waves of Cambridge\n",
    "I would be a water plant!\n",
    "That pool under the shade of elm trees\n",
    "Holds not water but the rainbow from the sky;\n",
    "Shattered to pieces among the duckweeds\n",
    "Is the sediment of a rainbow-like dream?\n",
    "To seek a dream? Just to pole a boat upstream\n",
    "To where the green grass is more verdant;\n",
    "Or to have the boat fully loaded with starlight\n",
    "And sing aloud in the splendor of starlight.\n",
    "But I cannot sing aloud\n",
    "Quietness is my farewell music;\n",
    "Even summer insects heap silence for me\n",
    "Silent is Cambridge tonight!''')\n",
    "f.close()"
   ]
  },
  {
   "cell_type": "code",
   "execution_count": 6,
   "metadata": {},
   "outputs": [
    {
     "name": "stdout",
     "output_type": "stream",
     "text": [
      "Very quietly I take my leave\n",
      "As quietly as I came here;\n",
      "Quietly I wave good-bye\n",
      "To the rosy clouds in the western sky.\n",
      "The golden willows by the riverside\n",
      "Are young brides in the setting sun;\n",
      "Their reflections on the shimmering waves\n",
      "Always linger in the depth of my heart.\n",
      "The floating heart growing in the sludge\n",
      "Sways leisurely under the water;\n",
      "In the gentle waves of Cambridge\n",
      "I would be a water plant!\n",
      "That pool under the shade of elm trees\n",
      "Holds not water but the rainbow from the sky;\n",
      "Shattered to pieces among the duckweeds\n",
      "Is the sediment of a rainbow-like dream?\n",
      "To seek a dream? Just to pole a boat upstream\n",
      "To where the green grass is more verdant;\n",
      "Or to have the boat fully loaded with starlight\n",
      "And sing aloud in the splendor of starlight.\n",
      "But I cannot sing aloud\n",
      "Quietness is my farewell music;\n",
      "Even summer insects heap silence for me\n",
      "Silent is Cambridge tonight!\n"
     ]
    }
   ],
   "source": [
    "f=open(\"FarewellCambridge.txt\")\n",
    "print(f.read())\n",
    "f.close()"
   ]
  },
  {
   "cell_type": "code",
   "execution_count": 12,
   "metadata": {},
   "outputs": [],
   "source": [
    "def loadWords():  \n",
    "    file = open('words.txt', 'r')  \n",
    "    context = file.read()  \n",
    "    file.close()  \n",
    "    word_list = context.split()  \n",
    "    print('word numbers is: %d' % len(word_list))  \n",
    "    return word_list \n"
   ]
  },
  {
   "cell_type": "code",
   "execution_count": 13,
   "metadata": {},
   "outputs": [
    {
     "name": "stdout",
     "output_type": "stream",
     "text": [
      "word numbers is: 55909\n"
     ]
    }
   ],
   "source": [
    "loadWords()"
   ]
  },
  {
   "cell_type": "code",
   "execution_count": null,
   "metadata": {},
   "outputs": [],
   "source": []
  }
 ],
 "metadata": {
  "kernelspec": {
   "display_name": "Python 3",
   "language": "python",
   "name": "python3"
  },
  "language_info": {
   "codemirror_mode": {
    "name": "ipython",
    "version": 3
   },
   "file_extension": ".py",
   "mimetype": "text/x-python",
   "name": "python",
   "nbconvert_exporter": "python",
   "pygments_lexer": "ipython3",
   "version": "3.6.4"
  }
 },
 "nbformat": 4,
 "nbformat_minor": 2
}
