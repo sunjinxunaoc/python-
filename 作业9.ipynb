{
 "cells": [
  {
   "cell_type": "code",
   "execution_count": 8,
   "metadata": {},
   "outputs": [
    {
     "name": "stdout",
     "output_type": "stream",
     "text": [
      "<1,8>\n",
      "<1,8>\n",
      "Coordinate(1,8)\n",
      "True\n"
     ]
    }
   ],
   "source": [
    "class Coordinate(object):\n",
    "    def __init__(self, x, y):\n",
    "        self.x = x \n",
    "        self.y = y\n",
    "    def getX(self): \n",
    "        return self.x\n",
    "    def getY(self): \n",
    "        return self.y\n",
    "    def __str__(self):\n",
    "        return '<' + str(self.getX()) + ',' + str(self.getY()) + '>'\n",
    "    def __eq__(self, other):\n",
    "        if self.x==other.x and self.y==other.y:\n",
    "            flag=True\n",
    "        else:\n",
    "            flag=False\n",
    "        return flag\n",
    "    def __repr__(self):\n",
    "        return 'Coordinate('+str(self.x)+','+str(self.y)+')'\n",
    "a=Coordinate(1,8)\n",
    "print(a)\n",
    "print(str(a))\n",
    "print(repr(a))\n",
    "b=Coordinate(1,8)\n",
    "print(a.__eq__(b))\n"
   ]
  },
  {
   "cell_type": "code",
   "execution_count": 27,
   "metadata": {},
   "outputs": [
    {
     "name": "stdout",
     "output_type": "stream",
     "text": [
      "Person(jan, 25)\n",
      "30\n",
      "Person(jan, 30)\n",
      "30\n",
      "Person(jan, 30)\n"
     ]
    }
   ],
   "source": [
    "#对象的显示\n",
    "class Person(object):\n",
    "    \"\"\"Class to represent a person\n",
    "    \"\"\"\n",
    "    def __init__(self,name,age): #类的构造函数，用来初始化对象\n",
    "        self.name=name\n",
    "        self.age=age\n",
    "    def display(self):\n",
    "        print(\"Person(%s, %d)\" % (self.name, self.age))\n",
    "    def __str__(self):\n",
    "        return \"Person(%s, %d)\" % (self.name, self.age)\n",
    "    def __repr__(self):\n",
    "        return \"Person<%s, %d>\" % (self.name, self.age)\n",
    "    def setAge(self,age):\n",
    "        if 0<age<=150:\n",
    "            self.age=age\n",
    "    def getAge(self):\n",
    "        return self.age\n",
    "\n",
    "if __name__=='__main__':\n",
    "    \n",
    "    p=Person(\"jan\",25) \n",
    "    print(p) \n",
    "    p.setAge(30)\n",
    "    print(p.getAge()) \n",
    "    print(p) \n",
    "    p.setAge(-23)\n",
    "    print(p.getAge())\n",
    "    print(p)"
   ]
  },
  {
   "cell_type": "code",
   "execution_count": 34,
   "metadata": {},
   "outputs": [
    {
     "name": "stdout",
     "output_type": "stream",
     "text": [
      "{3,4,5}\n",
      "{2,3,4}\n",
      "{3,4}\n",
      "3\n"
     ]
    }
   ],
   "source": [
    "class intSet(object):\n",
    "    \"\"\"An intSet is a set of integers\n",
    "    The value is represented by a list of ints, self.vals.\n",
    "    Each int in the set occurs in self.vals exactly once.\"\"\"\n",
    "\n",
    "    def __init__(self):\n",
    "        \"\"\"Create an empty set of integers\"\"\"\n",
    "        self.vals = []\n",
    "\n",
    "    def insert(self, e):\n",
    "        \"\"\"Assumes e is an integer and inserts e into self\"\"\"\n",
    "        if not e in self.vals:\n",
    "            self.vals.append(e)\n",
    "\n",
    "    def member(self, e):\n",
    "        \"\"\"Assumes e is an integer\n",
    "        Returns True if e is in self, and False otherwise\"\"\"\n",
    "        return e in self.vals\n",
    "\n",
    "    def remove(self, e):\n",
    "        \"\"\"Assumes e is an integer and removes e from self\n",
    "        Raises ValueError if e is not in self\"\"\"\n",
    "        try:\n",
    "            self.vals.remove(e)\n",
    "        except:\n",
    "            raise ValueError(str(e) + ' not found')\n",
    "    def intersect(self, other):\n",
    "        '''返回两者的相同元素'''\n",
    "        intSet=[]\n",
    "        flag=False\n",
    "        for e in self.vals:\n",
    "            if(e in other.vals):\n",
    "                flag=True\n",
    "                intSet.append(e)\n",
    "        if(flag==False):\n",
    "            return '两者没有相同元素'\n",
    "        else:\n",
    "            return '{'+','.join([str(e) for e in intSet])+'}'\n",
    "    def __len__(self):\n",
    "        '''返回inset的长度'''\n",
    "        return len(self.vals)\n",
    "\n",
    "    def __str__(self):\n",
    "        \"\"\"Returns a string representation of self\"\"\"\n",
    "        self.vals.sort()\n",
    "        return '{' + ','.join([str(e) for e in self.vals]) + '}'\n",
    "\n",
    "\n",
    "\n",
    "s1=intSet()\n",
    "s1.insert(3)\n",
    "s1.insert(4) \n",
    "s1.insert(5) \n",
    "print (s1) \n",
    "s2=intSet() \n",
    "s2.insert(2) \n",
    "s2.insert(4) \n",
    "s2.insert(3) \n",
    "print (s2)\n",
    "print(s1.intersect(s2))\n",
    "print(len(s1))"
   ]
  },
  {
   "cell_type": "code",
   "execution_count": null,
   "metadata": {},
   "outputs": [],
   "source": []
  }
 ],
 "metadata": {
  "kernelspec": {
   "display_name": "Python 3",
   "language": "python",
   "name": "python3"
  },
  "language_info": {
   "codemirror_mode": {
    "name": "ipython",
    "version": 3
   },
   "file_extension": ".py",
   "mimetype": "text/x-python",
   "name": "python",
   "nbconvert_exporter": "python",
   "pygments_lexer": "ipython3",
   "version": "3.6.4"
  }
 },
 "nbformat": 4,
 "nbformat_minor": 2
}
