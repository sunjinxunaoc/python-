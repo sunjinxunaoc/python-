{
 "cells": [
  {
   "cell_type": "code",
   "execution_count": 4,
   "metadata": {},
   "outputs": [
    {
     "name": "stdout",
     "output_type": "stream",
     "text": [
      "  1   2   3   4   5   6   8   9  10  11 \n",
      "\n",
      " 12  13  15  16  17  18  19  20  22  23 \n",
      "\n",
      " 24  25  26  27  29  30  31  32  33  34 \n",
      "\n",
      " 36  37  38  39  40  41  43  44  45  46 \n",
      "\n",
      " 47  48  50  51  52  53  54  55  57  58 \n",
      "\n",
      " 59  60  61  62  64  65  66  67  68  69 \n",
      "\n",
      " 71  72  73  74  75  76  78  79  80  81 \n",
      "\n",
      " 82  83  85  86  87  88  89  90  92  93 \n",
      "\n",
      " 94  95  96  97  99 100 "
     ]
    }
   ],
   "source": [
    "j=0\n",
    "for i in range(101):\n",
    "    if i%7!=0:\n",
    "        j=j+1\n",
    "        print(\"%3d\"%i,end=\" \")\n",
    "        if j%10==0:\n",
    "             print(\"\\n\")"
   ]
  },
  {
   "cell_type": "code",
   "execution_count": 24,
   "metadata": {},
   "outputs": [
    {
     "name": "stdout",
     "output_type": "stream",
     "text": [
      "beg\n"
     ]
    }
   ],
   "source": [
    "import re\n",
    "def fun(s):\n",
    "    r=r\"a?b?c?d?e?f?g?h?i?j?k?l?m?n?o?p?q?r?s?t?u?v?w?x?y?z?\"\n",
    "    m=re.findall(r,s,re.I)\n",
    "    m=sorted(m,key=len,reverse=True)\n",
    "    return m[0]\n",
    "s1=\"azcbobobegghaki\"\n",
    "s2=\"abcbcd\"\n",
    "print(fun(s1))"
   ]
  },
  {
   "cell_type": "code",
   "execution_count": 31,
   "metadata": {},
   "outputs": [
    {
     "name": "stdout",
     "output_type": "stream",
     "text": [
      "a000aab\n"
     ]
    }
   ],
   "source": [
    "s=\"abcdefghijklmnopqrstuvwxyzABCDEFGHIJKLMNOPQRSTUVWXYZ0123456789\"\n",
    "#s=\"^[A-Za-z0-9]+$\"\n",
    "q=\"a000 aa-b\"\n",
    "a=[]\n",
    "for i in range(len(q)):\n",
    "    \n",
    "    if q[i] in s:\n",
    "        a.append(q[i])\n",
    "print(\"\".join(a))"
   ]
  },
  {
   "cell_type": "code",
   "execution_count": 30,
   "metadata": {},
   "outputs": [
    {
     "name": "stdout",
     "output_type": "stream",
     "text": [
      "最长的字串是: beggh\n",
      "最长的字串是: abcd\n"
     ]
    }
   ],
   "source": [
    "def Isorder(s):  #判断字符串是否是字母顺序\n",
    "    for i in range(len(s) - 1):  \n",
    "        if len(s) == 1:  \n",
    "            return False          \n",
    "        elif s[i] > s[i+1]:  \n",
    "            return False  \n",
    "    return True      \n",
    "  \n",
    "def fun(s) :\n",
    "    \n",
    "  \n",
    "    substr = ''  \n",
    "\n",
    "    for length in range(1, len(s)+1):  \n",
    "        a = True  \n",
    "        for i in range(len(s)-length+1):          \n",
    "            if Isorder(s[i: i+length]):  \n",
    "                if firstflag:   \n",
    "                    substr = s[i: i+length]  \n",
    "                    a= False  \n",
    "\n",
    "    print ('最长的字串是: ' + substr)       \n",
    "fun(\"azsggbegghakl\")\n",
    "fun(\"abcdcd\")"
   ]
  },
  {
   "cell_type": "code",
   "execution_count": null,
   "metadata": {},
   "outputs": [],
   "source": []
  }
 ],
 "metadata": {
  "kernelspec": {
   "display_name": "Python 3",
   "language": "python",
   "name": "python3"
  },
  "language_info": {
   "codemirror_mode": {
    "name": "ipython",
    "version": 3
   },
   "file_extension": ".py",
   "mimetype": "text/x-python",
   "name": "python",
   "nbconvert_exporter": "python",
   "pygments_lexer": "ipython3",
   "version": "3.6.4"
  }
 },
 "nbformat": 4,
 "nbformat_minor": 2
}
